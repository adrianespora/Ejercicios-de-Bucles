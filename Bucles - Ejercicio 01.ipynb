{
 "cells": [
  {
   "cell_type": "markdown",
   "metadata": {},
   "source": [
    "Ejercicio 1\n",
    "Escribir un programa que pida al usuario una palabra y la muestre por pantalla 10 veces."
   ]
  },
  {
   "cell_type": "code",
   "execution_count": 1,
   "metadata": {},
   "outputs": [
    {
     "name": "stdout",
     "output_type": "stream",
     "text": [
      "Ingrese su nombre: Adrian\n",
      "Adrian\n",
      "Adrian\n",
      "Adrian\n",
      "Adrian\n",
      "Adrian\n",
      "Adrian\n",
      "Adrian\n",
      "Adrian\n",
      "Adrian\n",
      "Adrian\n"
     ]
    }
   ],
   "source": [
    "nombre = input(\"Ingrese su nombre: \")\n",
    "cantidad = 0\n",
    "while cantidad <= 9: #Cuando el valor de \"cantidad\" sea menor o igual a 9\n",
    "\tprint(nombre)  #mostrara en pantalla la palabra\n",
    "\tcantidad = cantidad + 1 # Aumenta de a 1 el valor de \"cantidad\""
   ]
  },
  {
   "cell_type": "code",
   "execution_count": null,
   "metadata": {},
   "outputs": [],
   "source": []
  }
 ],
 "metadata": {
  "kernelspec": {
   "display_name": "Python 3",
   "language": "python",
   "name": "python3"
  },
  "language_info": {
   "codemirror_mode": {
    "name": "ipython",
    "version": 3
   },
   "file_extension": ".py",
   "mimetype": "text/x-python",
   "name": "python",
   "nbconvert_exporter": "python",
   "pygments_lexer": "ipython3",
   "version": "3.8.5"
  }
 },
 "nbformat": 4,
 "nbformat_minor": 4
}
