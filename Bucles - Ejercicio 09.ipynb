{
 "cells": [
  {
   "cell_type": "markdown",
   "metadata": {},
   "source": [
    "Ejercicio 9\n",
    "Escribir un programa que almacene la cadena de caracteres contraseña \n",
    "en una variable, pregunte al usuario por la contraseña hasta que introduzca la contraseña correcta."
   ]
  },
  {
   "cell_type": "code",
   "execution_count": 2,
   "metadata": {},
   "outputs": [
    {
     "name": "stdin",
     "output_type": "stream",
     "text": [
      "Ingrese su clave:  contraseña\n"
     ]
    },
    {
     "name": "stdout",
     "output_type": "stream",
     "text": [
      "clave correcta\n"
     ]
    }
   ],
   "source": [
    "psw = \"contraseña\"\n",
    "clave = \" \"\n",
    "while clave != psw: #cuando la \"clave\" no es igual a \"psw\"\n",
    "\tclave = input(\"Ingrese su clave: \")\n",
    "print(\"clave correcta\") #si la clave es correcta muestra esto\n"
   ]
  },
  {
   "cell_type": "code",
   "execution_count": null,
   "metadata": {},
   "outputs": [],
   "source": []
  }
 ],
 "metadata": {
  "kernelspec": {
   "display_name": "Python 3",
   "language": "python",
   "name": "python3"
  },
  "language_info": {
   "codemirror_mode": {
    "name": "ipython",
    "version": 3
   },
   "file_extension": ".py",
   "mimetype": "text/x-python",
   "name": "python",
   "nbconvert_exporter": "python",
   "pygments_lexer": "ipython3",
   "version": "3.8.5"
  }
 },
 "nbformat": 4,
 "nbformat_minor": 4
}
