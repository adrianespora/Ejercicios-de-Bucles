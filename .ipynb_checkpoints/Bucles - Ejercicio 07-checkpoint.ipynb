{
 "cells": [
  {
   "cell_type": "markdown",
   "metadata": {},
   "source": [
    "Ejercicio 7\n",
    "Escribir un programa que muestre por pantalla la tabla de multiplicar del 1 al 10."
   ]
  },
  {
   "cell_type": "code",
   "execution_count": null,
   "metadata": {},
   "outputs": [],
   "source": [
    "valor = int(input(\"Ingrese un numero para saber su tabla del 1 al 10:\"))\n",
    "print(\"La tabla del\", valor, \"es:\")\n",
    "x = 1\n",
    "while x <= 10:\n",
    "\tprint(\"El numero\", valor, \"por\", x, \"=\", valor*x)\n",
    "\tx = x+1\n"
   ]
  }
 ],
 "metadata": {
  "kernelspec": {
   "display_name": "Python 3",
   "language": "python",
   "name": "python3"
  },
  "language_info": {
   "codemirror_mode": {
    "name": "ipython",
    "version": 3
   },
   "file_extension": ".py",
   "mimetype": "text/x-python",
   "name": "python",
   "nbconvert_exporter": "python",
   "pygments_lexer": "ipython3",
   "version": "3.8.5"
  }
 },
 "nbformat": 4,
 "nbformat_minor": 4
}
