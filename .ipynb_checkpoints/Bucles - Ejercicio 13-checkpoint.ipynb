{
 "cells": [
  {
   "cell_type": "markdown",
   "metadata": {},
   "source": [
    "Ejercicio 13\n",
    "Escribir un programa que muestre el eco de todo lo que el usuario introduzca hasta que el usuario escriba “salir” que terminará."
   ]
  },
  {
   "cell_type": "code",
   "execution_count": null,
   "metadata": {},
   "outputs": [],
   "source": [
    "palabra = input(\"Ingrese una palabra de mas de 4 letras para ver el eco, o salir para terminar:\")\n",
    "cantidad = len(palabra)\n",
    "i = 0\n",
    "while palabra != \"salir\":\n",
    "\t\twhile i < 3:\n",
    "\t\t\tprint((palabra[-3]),(palabra[-2]),(palabra[-1]))\n",
    "\t\t\ti = i + 1\n",
    "if palabra == \"salir\":\n",
    "\texit()\n"
   ]
  }
 ],
 "metadata": {
  "kernelspec": {
   "display_name": "Python 3",
   "language": "python",
   "name": "python3"
  },
  "language_info": {
   "codemirror_mode": {
    "name": "ipython",
    "version": 3
   },
   "file_extension": ".py",
   "mimetype": "text/x-python",
   "name": "python",
   "nbconvert_exporter": "python",
   "pygments_lexer": "ipython3",
   "version": "3.8.5"
  }
 },
 "nbformat": 4,
 "nbformat_minor": 4
}
