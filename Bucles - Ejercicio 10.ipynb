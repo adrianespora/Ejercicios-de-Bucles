{
 "cells": [
  {
   "cell_type": "markdown",
   "metadata": {},
   "source": [
    "Ejercicio 10\n",
    "Escribir un programa que pida al usuario un número entero y muestre por pantalla si es un número primo o no."
   ]
  },
  {
   "cell_type": "code",
   "execution_count": 2,
   "metadata": {},
   "outputs": [
    {
     "name": "stdin",
     "output_type": "stream",
     "text": [
      "Ingrese un numero entero mayor que 1:  4\n"
     ]
    },
    {
     "name": "stdout",
     "output_type": "stream",
     "text": [
      "El numero ingresado no es un numero primo\n"
     ]
    }
   ],
   "source": [
    "n = int(input(\"Ingrese un numero entero mayor que 1: \"))\n",
    "i = 2\n",
    "while n%i !=0: #Cuando el valor de \"n\" divido 2 NO ES IGUAL a cero hace lo siguiente\n",
    "\ti = i+1 #Suma 1 al valor de \"i\"\n",
    "if i == n: #Si \"i\" es igual a \"n\", muestra lo siguiente\n",
    "\tprint(\"El numero ingresado un numero primo\")\n",
    "else: #si no es igual, muestra lo siguiente\n",
    "\tprint(\"El numero ingresado no es un numero primo\")"
   ]
  },
  {
   "cell_type": "code",
   "execution_count": null,
   "metadata": {},
   "outputs": [],
   "source": []
  }
 ],
 "metadata": {
  "kernelspec": {
   "display_name": "Python 3",
   "language": "python",
   "name": "python3"
  },
  "language_info": {
   "codemirror_mode": {
    "name": "ipython",
    "version": 3
   },
   "file_extension": ".py",
   "mimetype": "text/x-python",
   "name": "python",
   "nbconvert_exporter": "python",
   "pygments_lexer": "ipython3",
   "version": "3.8.5"
  }
 },
 "nbformat": 4,
 "nbformat_minor": 4
}
