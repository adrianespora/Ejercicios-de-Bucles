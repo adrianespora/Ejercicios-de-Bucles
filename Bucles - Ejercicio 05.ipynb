{
 "cells": [
  {
   "cell_type": "markdown",
   "metadata": {},
   "source": [
    "Ejercicio 5\n",
    "Escribir un programa que pregunte al usuario una cantidad a invertir, el interés anual y el número de años, y muestre por pantalla el capital obtenido en la inversión cada año que dura la inversión."
   ]
  },
  {
   "cell_type": "code",
   "execution_count": 1,
   "metadata": {},
   "outputs": [
    {
     "name": "stdin",
     "output_type": "stream",
     "text": [
      "Ingrese el monto a invertir :  100\n",
      "Ingrese la tasa de interes anual :  50\n",
      "Ingrese la cantidad de años de la inversion :  5\n"
     ]
    },
    {
     "name": "stdout",
     "output_type": "stream",
     "text": [
      "años : 1 capital : 150.0\n",
      "años : 2 capital : 225.0\n",
      "años : 3 capital : 337.5\n",
      "años : 4 capital : 506.25\n",
      "años : 5 capital : 759.375\n"
     ]
    }
   ],
   "source": [
    "capital = int(input(\"Ingrese el monto a invertir : \"))\n",
    "interes = int(input(\"Ingrese la tasa de interes anual : \"))\n",
    "años = int(input(\"Ingrese la cantidad de años de la inversion : \"))\n",
    "i =1\n",
    "while i <= años:\n",
    "\tcapital *= 1+interes/100 # agrega el interes generado al capital, para calcular el proximo año\n",
    "\tprint(\"años :\", i, \"capital :\", capital)\n",
    "\ti = i+1\n"
   ]
  },
  {
   "cell_type": "code",
   "execution_count": null,
   "metadata": {},
   "outputs": [],
   "source": []
  }
 ],
 "metadata": {
  "kernelspec": {
   "display_name": "Python 3",
   "language": "python",
   "name": "python3"
  },
  "language_info": {
   "codemirror_mode": {
    "name": "ipython",
    "version": 3
   },
   "file_extension": ".py",
   "mimetype": "text/x-python",
   "name": "python",
   "nbconvert_exporter": "python",
   "pygments_lexer": "ipython3",
   "version": "3.8.5"
  }
 },
 "nbformat": 4,
 "nbformat_minor": 4
}
