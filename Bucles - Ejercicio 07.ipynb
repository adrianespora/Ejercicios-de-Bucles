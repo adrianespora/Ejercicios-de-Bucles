{
 "cells": [
  {
   "cell_type": "markdown",
   "metadata": {},
   "source": [
    "Ejercicio 7\n",
    "Escribir un programa que muestre por pantalla la tabla de multiplicar del 1 al 10."
   ]
  },
  {
   "cell_type": "code",
   "execution_count": 1,
   "metadata": {},
   "outputs": [
    {
     "name": "stdin",
     "output_type": "stream",
     "text": [
      "Ingrese un numero para saber su tabla del 1 al 10: 5\n"
     ]
    },
    {
     "name": "stdout",
     "output_type": "stream",
     "text": [
      "La tabla del 5 es:\n",
      "El numero 5 por 1 = 5\n",
      "El numero 5 por 2 = 10\n",
      "El numero 5 por 3 = 15\n",
      "El numero 5 por 4 = 20\n",
      "El numero 5 por 5 = 25\n",
      "El numero 5 por 6 = 30\n",
      "El numero 5 por 7 = 35\n",
      "El numero 5 por 8 = 40\n",
      "El numero 5 por 9 = 45\n",
      "El numero 5 por 10 = 50\n"
     ]
    }
   ],
   "source": [
    "valor = int(input(\"Ingrese un numero para saber su tabla del 1 al 10:\")) #int para que sea un numero entero\n",
    "print(\"La tabla del\", valor, \"es:\")\n",
    "x = 1\n",
    "while x <= 10: #cuando \"x\" es menor o igual a 10\n",
    "\tprint(\"El numero\", valor, \"por\", x, \"=\", valor*x) #muestra esto\n",
    "\tx = x+1 #suma 1 a lo que tenia X\n"
   ]
  },
  {
   "cell_type": "code",
   "execution_count": null,
   "metadata": {},
   "outputs": [],
   "source": []
  }
 ],
 "metadata": {
  "kernelspec": {
   "display_name": "Python 3",
   "language": "python",
   "name": "python3"
  },
  "language_info": {
   "codemirror_mode": {
    "name": "ipython",
    "version": 3
   },
   "file_extension": ".py",
   "mimetype": "text/x-python",
   "name": "python",
   "nbconvert_exporter": "python",
   "pygments_lexer": "ipython3",
   "version": "3.8.5"
  }
 },
 "nbformat": 4,
 "nbformat_minor": 4
}
