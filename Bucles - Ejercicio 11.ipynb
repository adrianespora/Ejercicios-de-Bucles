{
 "cells": [
  {
   "cell_type": "markdown",
   "metadata": {},
   "source": [
    "Ejercicio 11\n",
    "Escribir un programa que pida al usuario una palabra y luego muestre por pantalla una a una las letras de la palabra introducida empezando por la última."
   ]
  },
  {
   "cell_type": "code",
   "execution_count": 1,
   "metadata": {},
   "outputs": [
    {
     "name": "stdin",
     "output_type": "stream",
     "text": [
      "Ingrese una palabra:  pepe\n"
     ]
    },
    {
     "name": "stdout",
     "output_type": "stream",
     "text": [
      "e p e p "
     ]
    }
   ],
   "source": [
    "palabra = input(\"Ingrese una palabra: \")\n",
    "cantidad = len(palabra) # guarda en la variable \"cantidad\" el valor de la cantidad de letras de \"palabra\"\n",
    "x = -cantidad #Le di valor negativo al valor de \"cantidad\"\n",
    "i = -1\n",
    "while i >= x:\n",
    "\tprint(palabra[i], end =\" \") #con i = -1 hago que muestre la ultima letra de la \"palabra\"\n",
    "\ti =i-1 #le resta 1 al valor de i, para que muestre la anteultima letra"
   ]
  },
  {
   "cell_type": "code",
   "execution_count": null,
   "metadata": {},
   "outputs": [],
   "source": []
  }
 ],
 "metadata": {
  "kernelspec": {
   "display_name": "Python 3",
   "language": "python",
   "name": "python3"
  },
  "language_info": {
   "codemirror_mode": {
    "name": "ipython",
    "version": 3
   },
   "file_extension": ".py",
   "mimetype": "text/x-python",
   "name": "python",
   "nbconvert_exporter": "python",
   "pygments_lexer": "ipython3",
   "version": "3.8.5"
  }
 },
 "nbformat": 4,
 "nbformat_minor": 4
}
